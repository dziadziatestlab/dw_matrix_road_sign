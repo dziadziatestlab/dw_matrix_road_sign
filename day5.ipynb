{
  "nbformat": 4,
  "nbformat_minor": 0,
  "metadata": {
    "colab": {
      "name": "day5.ipynb",
      "provenance": [],
      "mount_file_id": "1cFimIxuR2Y-i_E9VTyld0kP8lYS1k9fd",
      "authorship_tag": "ABX9TyMEpWZS60VI5pDBkNi92zzS"
    },
    "kernelspec": {
      "name": "python3",
      "display_name": "Python 3"
    },
    "accelerator": "GPU"
  },
  "cells": [
    {
      "cell_type": "code",
      "metadata": {
        "id": "exwKcoY9Z5kB",
        "colab_type": "code",
        "colab": {
          "base_uri": "https://localhost:8080/",
          "height": 168
        },
        "outputId": "ca918343-ae6a-42e3-fc17-b1f694bb5dd3"
      },
      "source": [
        "!pip install hyperopt"
      ],
      "execution_count": 1,
      "outputs": [
        {
          "output_type": "stream",
          "text": [
            "Requirement already satisfied: hyperopt in /usr/local/lib/python3.6/dist-packages (0.1.2)\n",
            "Requirement already satisfied: numpy in /usr/local/lib/python3.6/dist-packages (from hyperopt) (1.18.2)\n",
            "Requirement already satisfied: pymongo in /usr/local/lib/python3.6/dist-packages (from hyperopt) (3.10.1)\n",
            "Requirement already satisfied: tqdm in /usr/local/lib/python3.6/dist-packages (from hyperopt) (4.38.0)\n",
            "Requirement already satisfied: six in /usr/local/lib/python3.6/dist-packages (from hyperopt) (1.12.0)\n",
            "Requirement already satisfied: future in /usr/local/lib/python3.6/dist-packages (from hyperopt) (0.16.0)\n",
            "Requirement already satisfied: scipy in /usr/local/lib/python3.6/dist-packages (from hyperopt) (1.4.1)\n",
            "Requirement already satisfied: networkx in /usr/local/lib/python3.6/dist-packages (from hyperopt) (2.4)\n",
            "Requirement already satisfied: decorator>=4.3.0 in /usr/local/lib/python3.6/dist-packages (from networkx->hyperopt) (4.4.2)\n"
          ],
          "name": "stdout"
        }
      ]
    },
    {
      "cell_type": "code",
      "metadata": {
        "id": "PIqFToWoPAmO",
        "colab_type": "code",
        "colab": {}
      },
      "source": [
        "import pandas as pd\n",
        "import numpy as np\n",
        "\n",
        "import os\n",
        "import datetime\n",
        "\n",
        "import tensorflow as tf\n",
        "from tensorflow.keras.models import Sequential\n",
        "from tensorflow.keras.layers import Conv2D,MaxPool2D,Dense,Flatten,Dropout\n",
        "from tensorflow.keras.utils import to_categorical\n",
        "\n",
        "import matplotlib.pyplot as plt\n",
        "\n",
        "from skimage import color,exposure\n",
        "\n",
        "%load_ext tensorboard\n",
        "\n",
        "from sklearn.metrics import accuracy_score\n",
        "\n",
        "from hyperopt import hp,STATUS_OK,tpe,Trials,fmin\n"
      ],
      "execution_count": 0,
      "outputs": []
    },
    {
      "cell_type": "code",
      "metadata": {
        "id": "lRjf3TJoPLbO",
        "colab_type": "code",
        "outputId": "8c1eab67-6641-46fe-f184-a11b1188c9b7",
        "colab": {
          "base_uri": "https://localhost:8080/",
          "height": 34
        }
      },
      "source": [
        "cd '/content/drive/My Drive/Colab Notebooks/matrix/matrix_three/dw_matrix_road_sign'"
      ],
      "execution_count": 7,
      "outputs": [
        {
          "output_type": "stream",
          "text": [
            "/content/drive/My Drive/Colab Notebooks/matrix/matrix_three/dw_matrix_road_sign\n"
          ],
          "name": "stdout"
        }
      ]
    },
    {
      "cell_type": "code",
      "metadata": {
        "id": "A1mZI8rwPYNE",
        "colab_type": "code",
        "colab": {}
      },
      "source": [
        "train=pd.read_pickle('data/train.p')\n",
        "test=pd.read_pickle('data/test.p')\n",
        "\n",
        "X_train,y_train=train['features'],train['labels']\n",
        "X_test,y_test=test['features'],test['labels']"
      ],
      "execution_count": 0,
      "outputs": []
    },
    {
      "cell_type": "code",
      "metadata": {
        "id": "mlZI5TcrPgGj",
        "colab_type": "code",
        "outputId": "8c46efde-6781-4316-f867-be13b1637e51",
        "colab": {
          "base_uri": "https://localhost:8080/",
          "height": 34
        }
      },
      "source": [
        "y_train"
      ],
      "execution_count": 9,
      "outputs": [
        {
          "output_type": "execute_result",
          "data": {
            "text/plain": [
              "array([41, 41, 41, ..., 25, 25, 25], dtype=uint8)"
            ]
          },
          "metadata": {
            "tags": []
          },
          "execution_count": 9
        }
      ]
    },
    {
      "cell_type": "code",
      "metadata": {
        "id": "WzIaSPg9PpRg",
        "colab_type": "code",
        "outputId": "94e169ae-84ac-46d7-c18d-6cf5d9640760",
        "colab": {
          "base_uri": "https://localhost:8080/",
          "height": 34
        }
      },
      "source": [
        "len(np.unique(y_train))"
      ],
      "execution_count": 10,
      "outputs": [
        {
          "output_type": "execute_result",
          "data": {
            "text/plain": [
              "43"
            ]
          },
          "metadata": {
            "tags": []
          },
          "execution_count": 10
        }
      ]
    },
    {
      "cell_type": "code",
      "metadata": {
        "id": "cJuVrQtpPreo",
        "colab_type": "code",
        "colab": {}
      },
      "source": [
        "if y_train.ndim==1: y_train=to_categorical(y_train)\n",
        "if y_test.ndim==1:y_test=to_categorical(y_test)"
      ],
      "execution_count": 0,
      "outputs": []
    },
    {
      "cell_type": "code",
      "metadata": {
        "id": "5mWpCRU6PuUk",
        "colab_type": "code",
        "colab": {}
      },
      "source": [
        "input_shape=X_train.shape[1:]\n",
        "num_classes=y_train.shape[1]"
      ],
      "execution_count": 0,
      "outputs": []
    },
    {
      "cell_type": "code",
      "metadata": {
        "id": "BMP-dt0Sas4B",
        "colab_type": "code",
        "colab": {}
      },
      "source": [
        "def train_model(model,X_train,y_train,params_fit={}):\n",
        "  model.compile(loss='categorical_crossentropy',metrics=['accuracy'],optimizer='Adam')\n",
        "  \n",
        "  logdir=os.path.join(\"logs\",datetime.datetime.now().strftime(\"%Y%m%d-%H%M%S\"))\n",
        "  tensorboard_callback=tf.keras.callbacks.TensorBoard(logdir,histogram_freq=1)\n",
        "\n",
        "  model.fit(\n",
        "      X_train,\n",
        "      y_train,\n",
        "      batch_size=params_fit.get('batch_size',128),\n",
        "      epochs=params_fit.get('epochs',5),\n",
        "      verbose=params_fit.get('verbose',1),\n",
        "      validation_data=params_fit.get('validation_data',(X_train,y_train)),\n",
        "      callbacks=[tensorboard_callback]    \n",
        "  )\n",
        "\n",
        "  return model"
      ],
      "execution_count": 0,
      "outputs": []
    },
    {
      "cell_type": "code",
      "metadata": {
        "id": "wooWt78OUHJ7",
        "colab_type": "code",
        "colab": {}
      },
      "source": [
        "def predict(model_trained,X_test,y_test,scoring=accuracy_score):\n",
        "  y_test_norm=np.argmax(y_test,axis=1)\n",
        "\n",
        "  y_pred_prob=model_trained.predict(X_test)\n",
        "  y_pred=np.argmax(y_pred_prob,axis=1)\n",
        "\n",
        "  return scoring(y_test_norm,y_pred)\n",
        "\n",
        "\n",
        "\n",
        "\n",
        "\n"
      ],
      "execution_count": 0,
      "outputs": []
    },
    {
      "cell_type": "code",
      "metadata": {
        "id": "EMtl406zWr0r",
        "colab_type": "code",
        "colab": {}
      },
      "source": [
        "def train_and_predict(model):\n",
        "  model_trained=train_model(model,X_train,y_train)\n",
        "  return predict(model_trained,X_test,y_test)"
      ],
      "execution_count": 0,
      "outputs": []
    },
    {
      "cell_type": "code",
      "metadata": {
        "id": "gdVwO5WKaiXD",
        "colab_type": "code",
        "colab": {}
      },
      "source": [
        "def get_cnn_v5(input_shape,num_classes):\n",
        "  return Sequential([\n",
        "  Conv2D(filters=32,kernel_size=(3,3),activation='relu',input_shape=input_shape),\n",
        "  Conv2D(filters=32,kernel_size=(3,3),activation='relu',padding='same'),\n",
        "  MaxPool2D(),\n",
        "  Dropout(0.3),\n",
        "\n",
        "  Conv2D(filters=64,kernel_size=(3,3),activation='relu',padding='same'),\n",
        "  Conv2D(filters=64,kernel_size=(3,3),activation='relu'),\n",
        "  MaxPool2D(),\n",
        "  Dropout(0.3),\n",
        "\n",
        "  Conv2D(filters=64,kernel_size=(3,3),activation='relu',padding='same'),\n",
        "  Conv2D(filters=64,kernel_size=(3,3),activation='relu'),\n",
        "  MaxPool2D(),\n",
        "  Dropout(0.3),\n",
        "\n",
        "\n",
        "  Flatten(),\n",
        "\n",
        "  Dense(1024,activation='relu'),\n",
        "  Dropout(0.3),\n",
        "\n",
        "  Dense(1024,activation='relu'),\n",
        "  Dropout(0.3),\n",
        "\n",
        "  Dense(num_classes,activation='softmax')\n",
        "])\n",
        "  \n",
        "#get_cnn_v4(input_shape,num_classes).summary()\n",
        "\n",
        "#train_and_predict(get_cnn_v5(input_shape,num_classes))"
      ],
      "execution_count": 0,
      "outputs": []
    },
    {
      "cell_type": "code",
      "metadata": {
        "id": "lhDxr_3Mfwgg",
        "colab_type": "code",
        "colab": {}
      },
      "source": [
        "def get_model(params):\n",
        "  return Sequential([\n",
        "  Conv2D(filters=32,kernel_size=(3,3),activation='relu',input_shape=input_shape),\n",
        "  Conv2D(filters=32,kernel_size=(3,3),activation='relu',padding='same'),\n",
        "  MaxPool2D(),\n",
        "  Dropout(params['dropout_cnn_block_one']),\n",
        "\n",
        "  Conv2D(filters=64,kernel_size=(3,3),activation='relu',padding='same'),\n",
        "  Conv2D(filters=64,kernel_size=(3,3),activation='relu'),\n",
        "  MaxPool2D(),\n",
        "  Dropout(params['dropout_cnn_block_two']),\n",
        "\n",
        "  Conv2D(filters=128,kernel_size=(3,3),activation='relu',padding='same'),\n",
        "  Conv2D(filters=128,kernel_size=(3,3),activation='relu'),\n",
        "  MaxPool2D(),\n",
        "  Dropout(params['dropout_cnn_block_three']),\n",
        "\n",
        "\n",
        "  Flatten(),\n",
        "\n",
        "  Dense(1024,activation='relu'),\n",
        "  Dropout(params['dropout_dense_block_one']),\n",
        "\n",
        "  Dense(1024,activation='relu'),\n",
        "  Dropout(params['dropout_dense_block_two']),\n",
        "\n",
        "  Dense(num_classes,activation='softmax')\n",
        "])"
      ],
      "execution_count": 0,
      "outputs": []
    },
    {
      "cell_type": "code",
      "metadata": {
        "id": "9zSMVpQza1Y2",
        "colab_type": "code",
        "colab": {
          "base_uri": "https://localhost:8080/",
          "height": 202
        },
        "outputId": "8c72c8a8-ad0d-42b8-feda-81e17d728615"
      },
      "source": [
        "model=get_cnn_v5(input_shape,num_classes)\n",
        "model_trained=train_model(model,X_train,y_train)\n",
        "\n",
        "predict(model_trained,X_test,y_test,scoring=accuracy_score)"
      ],
      "execution_count": 16,
      "outputs": [
        {
          "output_type": "stream",
          "text": [
            "Epoch 1/5\n",
            "272/272 [==============================] - 4s 14ms/step - loss: 2.3173 - accuracy: 0.3584 - val_loss: 0.6301 - val_accuracy: 0.8118\n",
            "Epoch 2/5\n",
            "272/272 [==============================] - 4s 13ms/step - loss: 0.7077 - accuracy: 0.7772 - val_loss: 0.1647 - val_accuracy: 0.9469\n",
            "Epoch 3/5\n",
            "272/272 [==============================] - 4s 13ms/step - loss: 0.3809 - accuracy: 0.8833 - val_loss: 0.0890 - val_accuracy: 0.9759\n",
            "Epoch 4/5\n",
            "272/272 [==============================] - 4s 13ms/step - loss: 0.2443 - accuracy: 0.9237 - val_loss: 0.0527 - val_accuracy: 0.9849\n",
            "Epoch 5/5\n",
            "272/272 [==============================] - 4s 13ms/step - loss: 0.1969 - accuracy: 0.9421 - val_loss: 0.0309 - val_accuracy: 0.9919\n"
          ],
          "name": "stdout"
        },
        {
          "output_type": "execute_result",
          "data": {
            "text/plain": [
              "0.9619047619047619"
            ]
          },
          "metadata": {
            "tags": []
          },
          "execution_count": 16
        }
      ]
    },
    {
      "cell_type": "code",
      "metadata": {
        "id": "Cur_D479a1i1",
        "colab_type": "code",
        "colab": {}
      },
      "source": [
        "def func_obj(params):\n",
        "  model=get_model(params)\n",
        "  model.compile(loss='categorical_crossentropy',metrics=['accuracy'],optimizer='Adam')\n",
        "  \n",
        "  model.fit(\n",
        "      X_train,\n",
        "      y_train,\n",
        "      batch_size=int(params.get('batch_size',128)),\n",
        "      epochs=5,#params.get('epochs',5),\n",
        "      verbose=0,#params_fit.get('verbose',1),\n",
        "        \n",
        "  )\n",
        "  score=model.evaluate(X_test,y_test,verbose=0)\n",
        "  accuracy=score[1]\n",
        "  print(params,'accuracy={}'.format(accuracy))\n",
        "\n",
        "  return {'loss':-accuracy,'status':STATUS_OK,'model':model}"
      ],
      "execution_count": 0,
      "outputs": []
    },
    {
      "cell_type": "code",
      "metadata": {
        "id": "sG3Cisgia1sW",
        "colab_type": "code",
        "colab": {
          "base_uri": "https://localhost:8080/",
          "height": 1000
        },
        "outputId": "97ac3f13-abe2-4aad-fa00-588d5e197861"
      },
      "source": [
        "space={\n",
        "    'batch_size':hp.quniform('batch_size',100,200,10),\n",
        "    'dropout_cnn_block_one':hp.uniform('dropout_cnn_block_one',0.3,0.5),\n",
        "    'dropout_cnn_block_two':hp.uniform('dropout_cnn_block_two',0.3,0.5),\n",
        "    'dropout_cnn_block_three':hp.uniform('dropout_cnn_block_three',0.3,0.5),\n",
        "\n",
        "    'dropout_dense_block_one':hp.uniform('dropout_dense_block_one',0.3,0.7),\n",
        "    'dropout_dense_block_two':hp.uniform('dropout_dense_block_two',0.3,0.7)\n",
        "}\n",
        "\n",
        "best=fmin(\n",
        "    func_obj,\n",
        "    space,\n",
        "    tpe.suggest,\n",
        "    30,\n",
        "    Trials()\n",
        ")"
      ],
      "execution_count": 24,
      "outputs": [
        {
          "output_type": "stream",
          "text": [
            "{'batch_size': 100.0, 'dropout_cnn_block_one': 0.46430984035994777, 'dropout_cnn_block_three': 0.30938866046449226, 'dropout_cnn_block_two': 0.31101901998680503, 'dropout_dense_block_one': 0.5032166619424386, 'dropout_dense_block_two': 0.32047170541956843}\n",
            "accuracy=0.9358276724815369\n",
            "{'batch_size': 200.0, 'dropout_cnn_block_one': 0.3014662857659601, 'dropout_cnn_block_three': 0.3041591365892666, 'dropout_cnn_block_two': 0.3687877382756084, 'dropout_dense_block_one': 0.4081240436146365, 'dropout_dense_block_two': 0.5621737833010297}\n",
            "accuracy=0.9575963616371155\n",
            "{'batch_size': 170.0, 'dropout_cnn_block_one': 0.4910317408764835, 'dropout_cnn_block_three': 0.4926543229925436, 'dropout_cnn_block_two': 0.3132819215269599, 'dropout_dense_block_one': 0.5616130053843844, 'dropout_dense_block_two': 0.3577892473678883}\n",
            "accuracy=0.8943310379981995\n",
            "{'batch_size': 170.0, 'dropout_cnn_block_one': 0.45102026386313065, 'dropout_cnn_block_three': 0.4519613908954563, 'dropout_cnn_block_two': 0.33688134940618397, 'dropout_dense_block_one': 0.6840560280660322, 'dropout_dense_block_two': 0.36181886949620407}\n",
            "accuracy=0.9147392511367798\n",
            "{'batch_size': 120.0, 'dropout_cnn_block_one': 0.37240324606662173, 'dropout_cnn_block_three': 0.3273993297356232, 'dropout_cnn_block_two': 0.4627022652749803, 'dropout_dense_block_one': 0.5162308174037704, 'dropout_dense_block_two': 0.6437227331538886}\n",
            "accuracy=0.9532879590988159\n",
            "{'batch_size': 190.0, 'dropout_cnn_block_one': 0.48816434597934544, 'dropout_cnn_block_three': 0.3621549214696055, 'dropout_cnn_block_two': 0.41656660898595427, 'dropout_dense_block_one': 0.4283786810513596, 'dropout_dense_block_two': 0.6542357667095099}\n",
            "accuracy=0.8832199573516846\n",
            "{'batch_size': 170.0, 'dropout_cnn_block_one': 0.49460227914095456, 'dropout_cnn_block_three': 0.3099178005719227, 'dropout_cnn_block_two': 0.41939827251560635, 'dropout_dense_block_one': 0.5397651894995916, 'dropout_dense_block_two': 0.5307194177667877}\n",
            "accuracy=0.9213151931762695\n",
            "{'batch_size': 130.0, 'dropout_cnn_block_one': 0.30532783631675636, 'dropout_cnn_block_three': 0.42962746199421487, 'dropout_cnn_block_two': 0.44364099250654443, 'dropout_dense_block_one': 0.6552529924231374, 'dropout_dense_block_two': 0.6335627351266494}\n",
            "accuracy=0.857369601726532\n",
            "{'batch_size': 120.0, 'dropout_cnn_block_one': 0.3858037799847669, 'dropout_cnn_block_three': 0.40726327283350844, 'dropout_cnn_block_two': 0.3522831632164046, 'dropout_dense_block_one': 0.6345624890082908, 'dropout_dense_block_two': 0.6226002245934794}\n",
            "accuracy=0.9358276724815369\n",
            "{'batch_size': 190.0, 'dropout_cnn_block_one': 0.34502661922299527, 'dropout_cnn_block_three': 0.4132955550964845, 'dropout_cnn_block_two': 0.4930405326842438, 'dropout_dense_block_one': 0.699163439886926, 'dropout_dense_block_two': 0.6013439584232032}\n",
            "accuracy=0.8142856955528259\n",
            "{'batch_size': 110.0, 'dropout_cnn_block_one': 0.42278847541256215, 'dropout_cnn_block_three': 0.3664687967219612, 'dropout_cnn_block_two': 0.4254755443953478, 'dropout_dense_block_one': 0.3434577270560456, 'dropout_dense_block_two': 0.5071793453028173}\n",
            "accuracy=0.9294784665107727\n",
            "{'batch_size': 120.0, 'dropout_cnn_block_one': 0.31485703772567564, 'dropout_cnn_block_three': 0.3472265840010574, 'dropout_cnn_block_two': 0.422845283995141, 'dropout_dense_block_one': 0.3191964663539824, 'dropout_dense_block_two': 0.695077420355212}\n",
            "accuracy=0.940362811088562\n",
            "{'batch_size': 190.0, 'dropout_cnn_block_one': 0.4563684368112801, 'dropout_cnn_block_three': 0.39532817664554376, 'dropout_cnn_block_two': 0.3479760756779473, 'dropout_dense_block_one': 0.6360801364343054, 'dropout_dense_block_two': 0.43210255861813485}\n",
            "accuracy=0.8909296989440918\n",
            "{'batch_size': 140.0, 'dropout_cnn_block_one': 0.3408129002180516, 'dropout_cnn_block_three': 0.389007229520862, 'dropout_cnn_block_two': 0.3064440792242485, 'dropout_dense_block_one': 0.6012442669562923, 'dropout_dense_block_two': 0.33242073594880267}\n",
            "accuracy=0.9503401517868042\n",
            "{'batch_size': 140.0, 'dropout_cnn_block_one': 0.45193252516595445, 'dropout_cnn_block_three': 0.3255722156723225, 'dropout_cnn_block_two': 0.38030281786216125, 'dropout_dense_block_one': 0.6164026272737195, 'dropout_dense_block_two': 0.5084062388322341}\n",
            "accuracy=0.8836734890937805\n",
            "{'batch_size': 130.0, 'dropout_cnn_block_one': 0.3833071652417062, 'dropout_cnn_block_three': 0.4653834102559851, 'dropout_cnn_block_two': 0.44262727478152375, 'dropout_dense_block_one': 0.6117360703821764, 'dropout_dense_block_two': 0.5774416352690201}\n",
            "accuracy=0.9290249347686768\n",
            "{'batch_size': 160.0, 'dropout_cnn_block_one': 0.4966427426347912, 'dropout_cnn_block_three': 0.49501037608073295, 'dropout_cnn_block_two': 0.42335781117662985, 'dropout_dense_block_one': 0.6986437661529953, 'dropout_dense_block_two': 0.6777672411094974}\n",
            "accuracy=0.6183673739433289\n",
            "{'batch_size': 180.0, 'dropout_cnn_block_one': 0.4238200052614244, 'dropout_cnn_block_three': 0.40294144544534327, 'dropout_cnn_block_two': 0.4238650637625212, 'dropout_dense_block_one': 0.5558544047191746, 'dropout_dense_block_two': 0.5745150525958538}\n",
            "accuracy=0.8963719010353088\n",
            "{'batch_size': 130.0, 'dropout_cnn_block_one': 0.3630739255757198, 'dropout_cnn_block_three': 0.38308108101441296, 'dropout_cnn_block_two': 0.40493501952472566, 'dropout_dense_block_one': 0.5530458230549884, 'dropout_dense_block_two': 0.42638389868824833}\n",
            "accuracy=0.9442176818847656\n",
            "{'batch_size': 120.0, 'dropout_cnn_block_one': 0.3767309220166873, 'dropout_cnn_block_three': 0.4740522370911128, 'dropout_cnn_block_two': 0.46289965616533935, 'dropout_dense_block_one': 0.674828106745037, 'dropout_dense_block_two': 0.42260676278548304}\n",
            "accuracy=0.8981859683990479\n",
            "{'batch_size': 100.0, 'dropout_cnn_block_one': 0.3243832102981983, 'dropout_cnn_block_three': 0.332608481832972, 'dropout_cnn_block_two': 0.3760542539530234, 'dropout_dense_block_one': 0.419888396312805, 'dropout_dense_block_two': 0.5367922359973024}\n",
            "accuracy=0.9551020264625549\n",
            "{'batch_size': 100.0, 'dropout_cnn_block_one': 0.3211339313253541, 'dropout_cnn_block_three': 0.3356113608494624, 'dropout_cnn_block_two': 0.3846958852881276, 'dropout_dense_block_one': 0.4363836718934574, 'dropout_dense_block_two': 0.46659258681438404}\n",
            "accuracy=0.9625850319862366\n",
            "{'batch_size': 200.0, 'dropout_cnn_block_one': 0.33357078682715924, 'dropout_cnn_block_three': 0.30676071074705547, 'dropout_cnn_block_two': 0.3758664397864076, 'dropout_dense_block_one': 0.45834776753428325, 'dropout_dense_block_two': 0.4514901139122353}\n",
            "accuracy=0.9494330883026123\n",
            "{'batch_size': 150.0, 'dropout_cnn_block_one': 0.30092766979273466, 'dropout_cnn_block_three': 0.34561027940429234, 'dropout_cnn_block_two': 0.3927057495016323, 'dropout_dense_block_one': 0.3746222691223611, 'dropout_dense_block_two': 0.46995367953198797}\n",
            "accuracy=0.9376417398452759\n",
            "{'batch_size': 150.0, 'dropout_cnn_block_one': 0.35463684362596776, 'dropout_cnn_block_three': 0.3698536253338626, 'dropout_cnn_block_two': 0.3608156798165695, 'dropout_dense_block_one': 0.46283908744494373, 'dropout_dense_block_two': 0.3883265939788942}\n",
            "accuracy=0.9555555582046509\n",
            "{'batch_size': 200.0, 'dropout_cnn_block_one': 0.31771007751375174, 'dropout_cnn_block_three': 0.30174012903478925, 'dropout_cnn_block_two': 0.32944376003015524, 'dropout_dense_block_one': 0.381358829765126, 'dropout_dense_block_two': 0.5588658672668105}\n",
            "accuracy=0.9476190209388733\n",
            "{'batch_size': 160.0, 'dropout_cnn_block_one': 0.4002025376597725, 'dropout_cnn_block_three': 0.3371895166172409, 'dropout_cnn_block_two': 0.39958889225813327, 'dropout_dense_block_one': 0.46468708458683516, 'dropout_dense_block_two': 0.47471515202405784}\n",
            "accuracy=0.9539682269096375\n",
            "{'batch_size': 110.0, 'dropout_cnn_block_one': 0.30247063184225725, 'dropout_cnn_block_three': 0.3183273440960715, 'dropout_cnn_block_two': 0.3591861905107626, 'dropout_dense_block_one': 0.30012110001738673, 'dropout_dense_block_two': 0.4858326641370425}\n",
            "accuracy=0.9705215692520142\n",
            "{'batch_size': 100.0, 'dropout_cnn_block_one': 0.3309882501279626, 'dropout_cnn_block_three': 0.3182388260084069, 'dropout_cnn_block_two': 0.3283455269180412, 'dropout_dense_block_one': 0.30160213767925126, 'dropout_dense_block_two': 0.40251894338649635}\n",
            "accuracy=0.9405895471572876\n",
            "{'batch_size': 110.0, 'dropout_cnn_block_one': 0.4021785824752905, 'dropout_cnn_block_three': 0.3517790725099972, 'dropout_cnn_block_two': 0.3514687217676822, 'dropout_dense_block_one': 0.32401587251246083, 'dropout_dense_block_two': 0.48762531521069025}\n",
            "accuracy=0.9594104290008545\n",
            "100%|██████████| 30/30 [09:58<00:00, 19.93s/it, best loss: -0.9705215692520142]\n"
          ],
          "name": "stdout"
        }
      ]
    },
    {
      "cell_type": "code",
      "metadata": {
        "id": "FjKtguVZbCjs",
        "colab_type": "code",
        "colab": {}
      },
      "source": [
        ""
      ],
      "execution_count": 0,
      "outputs": []
    },
    {
      "cell_type": "code",
      "metadata": {
        "id": "NivZ2AvgbCpx",
        "colab_type": "code",
        "colab": {}
      },
      "source": [
        ""
      ],
      "execution_count": 0,
      "outputs": []
    },
    {
      "cell_type": "code",
      "metadata": {
        "id": "Kjvgcyq2bCxb",
        "colab_type": "code",
        "colab": {}
      },
      "source": [
        ""
      ],
      "execution_count": 0,
      "outputs": []
    },
    {
      "cell_type": "code",
      "metadata": {
        "id": "hFBcFX46Py40",
        "colab_type": "code",
        "colab": {}
      },
      "source": [
        "model=Sequential([\n",
        "  Conv2D(filters=64,kernel_size=(3,3),activation='relu',input_shape=input_shape),\n",
        "\n",
        "  Flatten(),\n",
        "  Dense(num_classes,activation='softmax')\n",
        "])\n",
        "\n",
        "model.compile(loss='categorical_crossentropy',metrics=['accuracy'],optimizer='Adam')"
      ],
      "execution_count": 0,
      "outputs": []
    },
    {
      "cell_type": "code",
      "metadata": {
        "id": "mVo7MPKMP5go",
        "colab_type": "code",
        "colab": {}
      },
      "source": [
        "def get_cnn_v1(input_shape,num_classes):\n",
        "  return Sequential([\n",
        "  Conv2D(filters=64,kernel_size=(3,3),activation='relu',input_shape=input_shape),\n",
        "\n",
        "  Flatten(),\n",
        "  Dense(num_classes,activation='softmax')\n",
        "])\n",
        "  \n",
        "\n",
        "\n"
      ],
      "execution_count": 0,
      "outputs": []
    },
    {
      "cell_type": "code",
      "metadata": {
        "id": "5IxVtVHrQJrU",
        "colab_type": "code",
        "outputId": "2dfcca51-8896-4959-9175-bc0d4379865d",
        "colab": {
          "base_uri": "https://localhost:8080/",
          "height": 184
        }
      },
      "source": [
        "model=get_cnn_v1(input_shape,num_classes)\n",
        "model_trained=train_model(model,X_train,y_train)"
      ],
      "execution_count": 0,
      "outputs": [
        {
          "output_type": "stream",
          "text": [
            "Epoch 1/5\n",
            "272/272 [==============================] - 6s 23ms/step - loss: 32.4806 - accuracy: 0.7672 - val_loss: 0.2142 - val_accuracy: 0.9479\n",
            "Epoch 2/5\n",
            "272/272 [==============================] - 6s 23ms/step - loss: 0.1813 - accuracy: 0.9576 - val_loss: 0.1100 - val_accuracy: 0.9716\n",
            "Epoch 3/5\n",
            "272/272 [==============================] - 6s 23ms/step - loss: 0.1245 - accuracy: 0.9716 - val_loss: 0.1049 - val_accuracy: 0.9766\n",
            "Epoch 4/5\n",
            "272/272 [==============================] - 6s 23ms/step - loss: 0.0991 - accuracy: 0.9762 - val_loss: 0.0805 - val_accuracy: 0.9793\n",
            "Epoch 5/5\n",
            "272/272 [==============================] - 6s 23ms/step - loss: 0.0759 - accuracy: 0.9814 - val_loss: 0.0536 - val_accuracy: 0.9875\n"
          ],
          "name": "stdout"
        }
      ]
    },
    {
      "cell_type": "code",
      "metadata": {
        "id": "ER5Gjv5YQOAc",
        "colab_type": "code",
        "outputId": "76634322-b88b-4c52-a04d-4add5c55645d",
        "colab": {
          "base_uri": "https://localhost:8080/",
          "height": 234
        }
      },
      "source": [
        "y_pred_prob=model_trained.predict(X_test)\n",
        "y_pred_prob"
      ],
      "execution_count": 0,
      "outputs": [
        {
          "output_type": "execute_result",
          "data": {
            "text/plain": [
              "array([[1.8658673e-06, 1.6315496e-03, 1.7593063e-02, ..., 2.5153104e-05,\n",
              "        9.4582397e-04, 2.9421056e-04],\n",
              "       [3.8727529e-05, 1.9670848e-03, 1.8332794e-01, ..., 3.6638245e-05,\n",
              "        4.1542926e-06, 9.6924654e-05],\n",
              "       [7.6067585e-07, 1.0334024e-03, 1.8972723e-02, ..., 2.4570227e-05,\n",
              "        4.1432143e-03, 6.5450813e-04],\n",
              "       ...,\n",
              "       [8.6624511e-03, 4.2810228e-02, 9.7290445e-03, ..., 3.9621879e-04,\n",
              "        1.3878550e-03, 1.0635830e-03],\n",
              "       [1.7534621e-02, 3.9192542e-02, 1.6093731e-02, ..., 7.1662280e-04,\n",
              "        1.7536362e-03, 1.4878721e-03],\n",
              "       [3.3121225e-03, 4.3132786e-02, 1.6106201e-02, ..., 3.5383072e-04,\n",
              "        2.0224294e-03, 6.3411228e-04]], dtype=float32)"
            ]
          },
          "metadata": {
            "tags": []
          },
          "execution_count": 22
        }
      ]
    },
    {
      "cell_type": "code",
      "metadata": {
        "id": "dVjSVLd-RWhi",
        "colab_type": "code",
        "outputId": "a6fed4f9-285a-4999-99f4-7961a35ac3f5",
        "colab": {
          "base_uri": "https://localhost:8080/",
          "height": 283
        }
      },
      "source": [
        "plt.imshow(X_test[400])"
      ],
      "execution_count": 0,
      "outputs": [
        {
          "output_type": "execute_result",
          "data": {
            "text/plain": [
              "<matplotlib.image.AxesImage at 0x7f631fbf39e8>"
            ]
          },
          "metadata": {
            "tags": []
          },
          "execution_count": 25
        },
        {
          "output_type": "display_data",
          "data": {
            "image/png": "[encoded data removed]",
            "text/plain": [
              "<Figure size 432x288 with 1 Axes>"
            ]
          },
          "metadata": {
            "tags": []
          }
        }
      ]
    },
    {
      "cell_type": "code",
      "metadata": {
        "id": "AfUGyOeWSdXe",
        "colab_type": "code",
        "outputId": "74871f27-74e2-406f-aaf2-31e0387ba544",
        "colab": {
          "base_uri": "https://localhost:8080/",
          "height": 201
        }
      },
      "source": [
        "y_pred_prob[400]"
      ],
      "execution_count": 0,
      "outputs": [
        {
          "output_type": "execute_result",
          "data": {
            "text/plain": [
              "array([2.31663436e-02, 8.95247400e-01, 7.85713254e-08, 2.07879438e-08,\n",
              "       8.15848261e-02, 2.29059811e-08, 4.18738546e-16, 3.49336716e-14,\n",
              "       9.60527943e-20, 1.29733428e-06, 1.18067380e-16, 2.23658864e-16,\n",
              "       1.37778272e-20, 6.14496780e-15, 4.47981326e-16, 4.22334995e-17,\n",
              "       2.00946930e-21, 2.71700679e-33, 3.92890439e-14, 5.24245182e-23,\n",
              "       3.00768041e-19, 1.38565071e-11, 1.60270403e-31, 1.78635934e-21,\n",
              "       8.94324414e-19, 1.42079725e-20, 5.95061979e-21, 1.46903195e-29,\n",
              "       1.26232202e-09, 4.72304975e-13, 1.61681857e-27, 1.14429228e-15,\n",
              "       1.00262145e-16, 2.23896909e-32, 2.27498965e-26, 1.81231233e-20,\n",
              "       5.35660851e-30, 2.80221529e-34, 2.34472553e-27, 1.91474173e-24,\n",
              "       1.57824317e-29, 7.00884609e-20, 5.56905507e-23], dtype=float32)"
            ]
          },
          "metadata": {
            "tags": []
          },
          "execution_count": 26
        }
      ]
    },
    {
      "cell_type": "code",
      "metadata": {
        "id": "GlaZyUgjSoC7",
        "colab_type": "code",
        "colab": {}
      },
      "source": [
        "df=pd.read_csv('data/signnames.csv')\n",
        "labels_dict=df.to_dict()['b']"
      ],
      "execution_count": 0,
      "outputs": []
    },
    {
      "cell_type": "code",
      "metadata": {
        "id": "pZG8n27nS64T",
        "colab_type": "code",
        "outputId": "ec02ae01-a46e-47a5-bb37-50d8194e35de",
        "colab": {
          "base_uri": "https://localhost:8080/",
          "height": 33
        }
      },
      "source": [
        "labels_dict[np.argmax(y_pred_prob[400])]"
      ],
      "execution_count": 0,
      "outputs": [
        {
          "output_type": "execute_result",
          "data": {
            "text/plain": [
              "'Speed limit (30km/h)'"
            ]
          },
          "metadata": {
            "tags": []
          },
          "execution_count": 33
        }
      ]
    },
    {
      "cell_type": "code",
      "metadata": {
        "id": "U5n_b4vYTcH4",
        "colab_type": "code",
        "outputId": "9c1472e1-3c44-4284-9570-08f483019462",
        "colab": {
          "base_uri": "https://localhost:8080/",
          "height": 33
        }
      },
      "source": [
        "np.sum(y_pred_prob[400])"
      ],
      "execution_count": 0,
      "outputs": [
        {
          "output_type": "execute_result",
          "data": {
            "text/plain": [
              "1.0"
            ]
          },
          "metadata": {
            "tags": []
          },
          "execution_count": 34
        }
      ]
    },
    {
      "cell_type": "code",
      "metadata": {
        "id": "d2hXQrr2T_Nn",
        "colab_type": "code",
        "outputId": "4428ccb6-5d44-4393-a797-dc54c7a7857d",
        "colab": {
          "base_uri": "https://localhost:8080/",
          "height": 298
        }
      },
      "source": [
        "\n",
        "defplt.bar(range(43),y_pred_prob[400])"
      ],
      "execution_count": 0,
      "outputs": [
        {
          "output_type": "stream",
          "text": [
            "ERROR! Session/line number was not unique in database. History logging moved to new session 59\n"
          ],
          "name": "stdout"
        },
        {
          "output_type": "execute_result",
          "data": {
            "text/plain": [
              "<BarContainer object of 43 artists>"
            ]
          },
          "metadata": {
            "tags": []
          },
          "execution_count": 36
        },
        {
          "output_type": "display_data",
          "data": {
            "image/png": "[encoded data removed]",
            "text/plain": [
              "<Figure size 432x288 with 1 Axes>"
            ]
          },
          "metadata": {
            "tags": []
          }
        }
      ]
    },
    {
      "cell_type": "code",
      "metadata": {
        "id": "Qr1oLx6jWYID",
        "colab_type": "code",
        "outputId": "b586f22d-ea07-45db-df10-566740683ca1",
        "colab": {
          "base_uri": "https://localhost:8080/",
          "height": 201
        }
      },
      "source": [
        "def get_cnn_v3(input_shape,num_classes):\n",
        "  return Sequential([\n",
        "  Conv2D(filters=32,kernel_size=(3,3),activation='relu',input_shape=input_shape),\n",
        "  Conv2D(filters=32,kernel_size=(3,3),activation='relu'),\n",
        "  MaxPool2D(),\n",
        "  Dropout(0.3),\n",
        "\n",
        "  Conv2D(filters=64,kernel_size=(3,3),activation='relu'),\n",
        "  Conv2D(filters=64,kernel_size=(3,3),activation='relu'),\n",
        "  MaxPool2D(),\n",
        "  Dropout(0.3),\n",
        "\n",
        "  Flatten(),\n",
        "\n",
        "  Dense(1024,activation='relu'),\n",
        "  Dropout(0.3),\n",
        "\n",
        "  Dense(num_classes,activation='softmax')\n",
        "])\n",
        "  \n",
        "\n",
        "\n",
        "train_and_predict(get_cnn_v3(input_shape,num_classes))"
      ],
      "execution_count": 0,
      "outputs": [
        {
          "output_type": "stream",
          "text": [
            "Epoch 1/5\n",
            "272/272 [==============================] - 10s 37ms/step - loss: 2.1809 - accuracy: 0.5612 - val_loss: 0.3044 - val_accuracy: 0.9339\n",
            "Epoch 2/5\n",
            "272/272 [==============================] - 10s 35ms/step - loss: 0.4132 - accuracy: 0.8817 - val_loss: 0.1014 - val_accuracy: 0.9755\n",
            "Epoch 3/5\n",
            "272/272 [==============================] - 10s 35ms/step - loss: 0.2321 - accuracy: 0.9305 - val_loss: 0.0562 - val_accuracy: 0.9872\n",
            "Epoch 4/5\n",
            "272/272 [==============================] - 10s 35ms/step - loss: 0.1583 - accuracy: 0.9546 - val_loss: 0.0289 - val_accuracy: 0.9931\n",
            "Epoch 5/5\n",
            "272/272 [==============================] - 10s 35ms/step - loss: 0.1267 - accuracy: 0.9630 - val_loss: 0.0183 - val_accuracy: 0.9961\n"
          ],
          "name": "stdout"
        },
        {
          "output_type": "execute_result",
          "data": {
            "text/plain": [
              "0.9657596371882086"
            ]
          },
          "metadata": {
            "tags": []
          },
          "execution_count": 46
        }
      ]
    },
    {
      "cell_type": "code",
      "metadata": {
        "id": "-kRxIQROZHD5",
        "colab_type": "code",
        "outputId": "2111a056-6d93-46ca-88f9-48f87c3cfde9",
        "colab": {
          "base_uri": "https://localhost:8080/",
          "height": 201
        }
      },
      "source": [
        "def get_cnn_v4(input_shape,num_classes):\n",
        "  return Sequential([\n",
        "  Conv2D(filters=32,kernel_size=(3,3),activation='relu',input_shape=input_shape),\n",
        "  Conv2D(filters=32,kernel_size=(3,3),activation='relu',padding='same'),\n",
        "  MaxPool2D(),\n",
        "  Dropout(0.3),\n",
        "\n",
        "  Conv2D(filters=64,kernel_size=(3,3),activation='relu',padding='same'),\n",
        "  Conv2D(filters=64,kernel_size=(3,3),activation='relu'),\n",
        "  MaxPool2D(),\n",
        "  Dropout(0.3),\n",
        "\n",
        "  Conv2D(filters=64,kernel_size=(3,3),activation='relu',padding='same'),\n",
        "  Conv2D(filters=64,kernel_size=(3,3),activation='relu'),\n",
        "  MaxPool2D(),\n",
        "  Dropout(0.3),\n",
        "\n",
        "\n",
        "  Flatten(),\n",
        "\n",
        "  Dense(1024,activation='relu'),\n",
        "  Dropout(0.3),\n",
        "\n",
        "  Dense(num_classes,activation='softmax')\n",
        "])\n",
        "  \n",
        "#get_cnn_v4(input_shape,num_classes).summary()\n",
        "\n",
        "train_and_predict(get_cnn_v4(input_shape,num_classes))"
      ],
      "execution_count": 0,
      "outputs": [
        {
          "output_type": "stream",
          "text": [
            "Epoch 1/5\n",
            "272/272 [==============================] - 12s 45ms/step - loss: 2.6147 - accuracy: 0.2905 - val_loss: 1.2604 - val_accuracy: 0.6060\n",
            "Epoch 2/5\n",
            "272/272 [==============================] - 12s 42ms/step - loss: 1.0357 - accuracy: 0.6717 - val_loss: 0.3097 - val_accuracy: 0.9121\n",
            "Epoch 3/5\n",
            "272/272 [==============================] - 12s 42ms/step - loss: 0.4107 - accuracy: 0.8761 - val_loss: 0.1011 - val_accuracy: 0.9711\n",
            "Epoch 4/5\n",
            "272/272 [==============================] - 12s 42ms/step - loss: 0.2395 - accuracy: 0.9277 - val_loss: 0.0410 - val_accuracy: 0.9892\n",
            "Epoch 5/5\n",
            "272/272 [==============================] - 12s 43ms/step - loss: 0.1633 - accuracy: 0.9522 - val_loss: 0.0299 - val_accuracy: 0.9931\n"
          ],
          "name": "stdout"
        },
        {
          "output_type": "execute_result",
          "data": {
            "text/plain": [
              "0.971655328798186"
            ]
          },
          "metadata": {
            "tags": []
          },
          "execution_count": 51
        }
      ]
    },
    {
      "cell_type": "code",
      "metadata": {
        "id": "tTV1Zx3ocEBK",
        "colab_type": "code",
        "outputId": "1b037ec1-11c6-4080-cbe2-6553a8a3fc21",
        "colab": {
          "base_uri": "https://localhost:8080/",
          "height": 33
        }
      },
      "source": [
        "color.rgb2gray(X_train[0]).shape"
      ],
      "execution_count": 0,
      "outputs": [
        {
          "output_type": "execute_result",
          "data": {
            "text/plain": [
              "(32, 32)"
            ]
          },
          "metadata": {
            "tags": []
          },
          "execution_count": 53
        }
      ]
    },
    {
      "cell_type": "code",
      "metadata": {
        "id": "qFnVqO_McogI",
        "colab_type": "code",
        "outputId": "1b8763e5-7693-43a7-b198-7323e88bdabf",
        "colab": {
          "base_uri": "https://localhost:8080/",
          "height": 283
        }
      },
      "source": [
        "plt.imshow(color.rgb2gray(X_train[0]),cmap=plt.get_cmap('gray'))"
      ],
      "execution_count": 0,
      "outputs": [
        {
          "output_type": "execute_result",
          "data": {
            "text/plain": [
              "<matplotlib.image.AxesImage at 0x7f6319d9c630>"
            ]
          },
          "metadata": {
            "tags": []
          },
          "execution_count": 55
        },
        {
          "output_type": "display_data",
          "data": {
            "image/png": "[encoded data removed]",
            "text/plain": [
              "<Figure size 432x288 with 1 Axes>"
            ]
          },
          "metadata": {
            "tags": []
          }
        }
      ]
    },
    {
      "cell_type": "code",
      "metadata": {
        "id": "1-WgjEeMctVD",
        "colab_type": "code",
        "colab": {}
      },
      "source": [
        "X_train_gray=color.rgb2gray(X_train).reshape(-1,32,32,1)\n",
        "X_test_gray=color.rgb2gray(X_test).reshape(-1,32,32,1)"
      ],
      "execution_count": 0,
      "outputs": []
    },
    {
      "cell_type": "code",
      "metadata": {
        "id": "meWtUT9-dXGh",
        "colab_type": "code",
        "outputId": "92c96096-c889-4b14-b71b-f6b1be64391b",
        "colab": {
          "base_uri": "https://localhost:8080/",
          "height": 201
        }
      },
      "source": [
        "model=get_cnn_v5((32,32,1),num_classes)\n",
        "model_trained=train_model(model,X_train_gray,y_train,params_fit={})\n",
        "predict(model_trained,X_test_gray,y_test)"
      ],
      "execution_count": 0,
      "outputs": [
        {
          "output_type": "stream",
          "text": [
            "Epoch 1/5\n",
            "272/272 [==============================] - 12s 46ms/step - loss: 2.3706 - accuracy: 0.3267 - val_loss: 0.5844 - val_accuracy: 0.8184\n",
            "Epoch 2/5\n",
            "272/272 [==============================] - 12s 45ms/step - loss: 0.4925 - accuracy: 0.8429 - val_loss: 0.1139 - val_accuracy: 0.9666\n",
            "Epoch 3/5\n",
            "272/272 [==============================] - 12s 45ms/step - loss: 0.2183 - accuracy: 0.9310 - val_loss: 0.0498 - val_accuracy: 0.9854\n",
            "Epoch 4/5\n",
            "272/272 [==============================] - 12s 44ms/step - loss: 0.1454 - accuracy: 0.9549 - val_loss: 0.0319 - val_accuracy: 0.9914\n",
            "Epoch 5/5\n",
            "272/272 [==============================] - 12s 45ms/step - loss: 0.1102 - accuracy: 0.9662 - val_loss: 0.0191 - val_accuracy: 0.9947\n"
          ],
          "name": "stdout"
        },
        {
          "output_type": "execute_result",
          "data": {
            "text/plain": [
              "0.9734693877551021"
            ]
          },
          "metadata": {
            "tags": []
          },
          "execution_count": 61
        }
      ]
    },
    {
      "cell_type": "code",
      "metadata": {
        "id": "pGHwbFKae48N",
        "colab_type": "code",
        "outputId": "f647b4c5-6e13-4477-cccc-a41b4bd4e0ce",
        "colab": {
          "base_uri": "https://localhost:8080/",
          "height": 266
        }
      },
      "source": [
        "plt.imshow(color.rgb2gray(X_train[0]),cmap=plt.get_cmap('gray'));"
      ],
      "execution_count": 0,
      "outputs": [
        {
          "output_type": "display_data",
          "data": {
            "image/png": "[encoded data removed]",
            "text/plain": [
              "<Figure size 432x288 with 1 Axes>"
            ]
          },
          "metadata": {
            "tags": []
          }
        }
      ]
    },
    {
      "cell_type": "code",
      "metadata": {
        "id": "l_hEdjWGfz9j",
        "colab_type": "code",
        "colab": {}
      },
      "source": [
        ""
      ],
      "execution_count": 0,
      "outputs": []
    }
  ]
}